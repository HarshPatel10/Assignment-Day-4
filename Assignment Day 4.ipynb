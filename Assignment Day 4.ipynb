{
 "cells": [
  {
   "cell_type": "markdown",
   "metadata": {},
   "source": [
    "#  Question 1\n",
    "\n",
    "write down a program in Python for Opening a File and write \" I Love LetsUpgrade\" and close it and read it back again, and then append some data to it and close it."
   ]
  },
  {
   "cell_type": "code",
   "execution_count": 4,
   "metadata": {},
   "outputs": [],
   "source": [
    "abc = open(\"Demo.txt\",'w')\n",
    "abc.write(\"I Love LetsUpgrade!!\")\n",
    "abc.close()"
   ]
  },
  {
   "cell_type": "code",
   "execution_count": 5,
   "metadata": {},
   "outputs": [
    {
     "name": "stdout",
     "output_type": "stream",
     "text": [
      "I Love LetsUpgrade!!\n"
     ]
    }
   ],
   "source": [
    "abc =open(\"Demo.txt\",'r')\n",
    "print(abc.read())"
   ]
  },
  {
   "cell_type": "code",
   "execution_count": 11,
   "metadata": {},
   "outputs": [],
   "source": [
    "abc = open(\"Demo.txt\",'a')\n",
    "abc.write(\" Lets Upgrade is amazing!\")\n",
    "abc.close()"
   ]
  },
  {
   "cell_type": "code",
   "execution_count": 12,
   "metadata": {},
   "outputs": [
    {
     "name": "stdout",
     "output_type": "stream",
     "text": [
      "I Love LetsUpgrade!!/n Lets Upgrade is amazing! Lets Upgrade is amazing!\n"
     ]
    }
   ],
   "source": [
    "abc = open(\"Demo.txt\",'r')\n",
    "print(abc.read())"
   ]
  },
  {
   "cell_type": "markdown",
   "metadata": {},
   "source": [
    "#  Question 2\n",
    "\n",
    "Write a function which can return a Fectorial of any numbers as INT, given in the argument."
   ]
  },
  {
   "cell_type": "code",
   "execution_count": 25,
   "metadata": {},
   "outputs": [
    {
     "name": "stdout",
     "output_type": "stream",
     "text": [
      "Enter any number : 4\n",
      "factorial of 4 is 24\n"
     ]
    }
   ],
   "source": [
    "N = int(input(\"Enter any number : \"))\n",
    "fact=1\n",
    "for i in range(N,0,-1):\n",
    "    fact=fact*i\n",
    "print(\"factorial of\",N,\"is\",fact)"
   ]
  }
 ],
 "metadata": {
  "kernelspec": {
   "display_name": "Python 3",
   "language": "python",
   "name": "python3"
  },
  "language_info": {
   "codemirror_mode": {
    "name": "ipython",
    "version": 3
   },
   "file_extension": ".py",
   "mimetype": "text/x-python",
   "name": "python",
   "nbconvert_exporter": "python",
   "pygments_lexer": "ipython3",
   "version": "3.8.5"
  }
 },
 "nbformat": 4,
 "nbformat_minor": 4
}
